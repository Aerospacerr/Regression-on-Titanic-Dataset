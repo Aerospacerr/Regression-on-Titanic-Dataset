{
 "cells": [
  {
   "cell_type": "markdown",
   "id": "formal-opportunity",
   "metadata": {
    "papermill": {
     "duration": 0.010946,
     "end_time": "2022-01-21T18:54:38.791860",
     "exception": false,
     "start_time": "2022-01-21T18:54:38.780914",
     "status": "completed"
    },
    "tags": []
   },
   "source": [
    "## Titanic Competition Dataset\n",
    "\n",
    "![](https://i0.wp.com/khosann.com/wp-content/uploads/2017/03/titanic-titanik-ballard-leonardo_dicaprio-james_cameron.jpg)\n",
    "\n",
    "#### Here we try to figure out the patterns who survived the famous Titanic crash. As we apply feature extraction from train set, we will also apply machine learning concepts from very basic to harder to implement. #### \n",
    "\n",
    "#### This will be a live notebook which I try to implement new things as I learned.I will try to find out different patterns, and try to apply those day by day. #### \n"
   ]
  },
  {
   "cell_type": "code",
   "execution_count": 1,
   "id": "pharmaceutical-ethiopia",
   "metadata": {
    "_cell_guid": "b1076dfc-b9ad-4769-8c92-a6c4dae69d19",
    "_uuid": "8f2839f25d086af736a60e9eeb907d3b93b6e0e5",
    "execution": {
     "iopub.execute_input": "2022-01-21T18:54:38.815964Z",
     "iopub.status.busy": "2022-01-21T18:54:38.814789Z",
     "iopub.status.idle": "2022-01-21T18:54:38.826921Z",
     "shell.execute_reply": "2022-01-21T18:54:38.826250Z",
     "shell.execute_reply.started": "2022-01-21T18:53:30.431630Z"
    },
    "papermill": {
     "duration": 0.025204,
     "end_time": "2022-01-21T18:54:38.827089",
     "exception": false,
     "start_time": "2022-01-21T18:54:38.801885",
     "status": "completed"
    },
    "tags": []
   },
   "outputs": [
    {
     "name": "stdout",
     "output_type": "stream",
     "text": [
      "/kaggle/input/titanic/train.csv\n",
      "/kaggle/input/titanic/test.csv\n",
      "/kaggle/input/titanic/gender_submission.csv\n"
     ]
    }
   ],
   "source": [
    "# This Python 3 environment comes with many helpful analytics libraries installed\n",
    "# It is defined by the kaggle/python Docker image: https://github.com/kaggle/docker-python\n",
    "# For example, here's several helpful packages to load\n",
    "\n",
    "import numpy as np # linear algebra\n",
    "import pandas as pd # data processing, CSV file I/O (e.g. pd.read_csv)\n",
    "\n",
    "# Input data files are available in the read-only \"../input/\" directory\n",
    "# For example, running this (by clicking run or pressing Shift+Enter) will list all files under the input directory\n",
    "\n",
    "import os\n",
    "for dirname, _, filenames in os.walk('/kaggle/input'):\n",
    "    for filename in filenames:\n",
    "        print(os.path.join(dirname, filename))\n",
    "\n",
    "# You can write up to 20GB to the current directory (/kaggle/working/) that gets preserved as output when you create a version using \"Save & Run All\" \n",
    "# You can also write temporary files to /kaggle/temp/, but they won't be saved outside of the current session"
   ]
  },
  {
   "cell_type": "code",
   "execution_count": 2,
   "id": "strange-camera",
   "metadata": {
    "execution": {
     "iopub.execute_input": "2022-01-21T18:54:38.854247Z",
     "iopub.status.busy": "2022-01-21T18:54:38.853337Z",
     "iopub.status.idle": "2022-01-21T18:54:38.908874Z",
     "shell.execute_reply": "2022-01-21T18:54:38.909465Z",
     "shell.execute_reply.started": "2022-01-21T18:53:30.446013Z"
    },
    "papermill": {
     "duration": 0.071991,
     "end_time": "2022-01-21T18:54:38.909646",
     "exception": false,
     "start_time": "2022-01-21T18:54:38.837655",
     "status": "completed"
    },
    "tags": []
   },
   "outputs": [
    {
     "data": {
      "text/html": [
       "<div>\n",
       "<style scoped>\n",
       "    .dataframe tbody tr th:only-of-type {\n",
       "        vertical-align: middle;\n",
       "    }\n",
       "\n",
       "    .dataframe tbody tr th {\n",
       "        vertical-align: top;\n",
       "    }\n",
       "\n",
       "    .dataframe thead th {\n",
       "        text-align: right;\n",
       "    }\n",
       "</style>\n",
       "<table border=\"1\" class=\"dataframe\">\n",
       "  <thead>\n",
       "    <tr style=\"text-align: right;\">\n",
       "      <th></th>\n",
       "      <th>PassengerId</th>\n",
       "      <th>Survived</th>\n",
       "      <th>Pclass</th>\n",
       "      <th>Name</th>\n",
       "      <th>Sex</th>\n",
       "      <th>Age</th>\n",
       "      <th>SibSp</th>\n",
       "      <th>Parch</th>\n",
       "      <th>Ticket</th>\n",
       "      <th>Fare</th>\n",
       "      <th>Cabin</th>\n",
       "      <th>Embarked</th>\n",
       "    </tr>\n",
       "  </thead>\n",
       "  <tbody>\n",
       "    <tr>\n",
       "      <th>0</th>\n",
       "      <td>1</td>\n",
       "      <td>0</td>\n",
       "      <td>3</td>\n",
       "      <td>Braund, Mr. Owen Harris</td>\n",
       "      <td>male</td>\n",
       "      <td>22.0</td>\n",
       "      <td>1</td>\n",
       "      <td>0</td>\n",
       "      <td>A/5 21171</td>\n",
       "      <td>7.2500</td>\n",
       "      <td>NaN</td>\n",
       "      <td>S</td>\n",
       "    </tr>\n",
       "    <tr>\n",
       "      <th>1</th>\n",
       "      <td>2</td>\n",
       "      <td>1</td>\n",
       "      <td>1</td>\n",
       "      <td>Cumings, Mrs. John Bradley (Florence Briggs Th...</td>\n",
       "      <td>female</td>\n",
       "      <td>38.0</td>\n",
       "      <td>1</td>\n",
       "      <td>0</td>\n",
       "      <td>PC 17599</td>\n",
       "      <td>71.2833</td>\n",
       "      <td>C85</td>\n",
       "      <td>C</td>\n",
       "    </tr>\n",
       "    <tr>\n",
       "      <th>2</th>\n",
       "      <td>3</td>\n",
       "      <td>1</td>\n",
       "      <td>3</td>\n",
       "      <td>Heikkinen, Miss. Laina</td>\n",
       "      <td>female</td>\n",
       "      <td>26.0</td>\n",
       "      <td>0</td>\n",
       "      <td>0</td>\n",
       "      <td>STON/O2. 3101282</td>\n",
       "      <td>7.9250</td>\n",
       "      <td>NaN</td>\n",
       "      <td>S</td>\n",
       "    </tr>\n",
       "    <tr>\n",
       "      <th>3</th>\n",
       "      <td>4</td>\n",
       "      <td>1</td>\n",
       "      <td>1</td>\n",
       "      <td>Futrelle, Mrs. Jacques Heath (Lily May Peel)</td>\n",
       "      <td>female</td>\n",
       "      <td>35.0</td>\n",
       "      <td>1</td>\n",
       "      <td>0</td>\n",
       "      <td>113803</td>\n",
       "      <td>53.1000</td>\n",
       "      <td>C123</td>\n",
       "      <td>S</td>\n",
       "    </tr>\n",
       "    <tr>\n",
       "      <th>4</th>\n",
       "      <td>5</td>\n",
       "      <td>0</td>\n",
       "      <td>3</td>\n",
       "      <td>Allen, Mr. William Henry</td>\n",
       "      <td>male</td>\n",
       "      <td>35.0</td>\n",
       "      <td>0</td>\n",
       "      <td>0</td>\n",
       "      <td>373450</td>\n",
       "      <td>8.0500</td>\n",
       "      <td>NaN</td>\n",
       "      <td>S</td>\n",
       "    </tr>\n",
       "  </tbody>\n",
       "</table>\n",
       "</div>"
      ],
      "text/plain": [
       "   PassengerId  Survived  Pclass  \\\n",
       "0            1         0       3   \n",
       "1            2         1       1   \n",
       "2            3         1       3   \n",
       "3            4         1       1   \n",
       "4            5         0       3   \n",
       "\n",
       "                                                Name     Sex   Age  SibSp  \\\n",
       "0                            Braund, Mr. Owen Harris    male  22.0      1   \n",
       "1  Cumings, Mrs. John Bradley (Florence Briggs Th...  female  38.0      1   \n",
       "2                             Heikkinen, Miss. Laina  female  26.0      0   \n",
       "3       Futrelle, Mrs. Jacques Heath (Lily May Peel)  female  35.0      1   \n",
       "4                           Allen, Mr. William Henry    male  35.0      0   \n",
       "\n",
       "   Parch            Ticket     Fare Cabin Embarked  \n",
       "0      0         A/5 21171   7.2500   NaN        S  \n",
       "1      0          PC 17599  71.2833   C85        C  \n",
       "2      0  STON/O2. 3101282   7.9250   NaN        S  \n",
       "3      0            113803  53.1000  C123        S  \n",
       "4      0            373450   8.0500   NaN        S  "
      ]
     },
     "execution_count": 2,
     "metadata": {},
     "output_type": "execute_result"
    }
   ],
   "source": [
    "train_data = pd.read_csv(\"/kaggle/input/titanic/train.csv\")\n",
    "train_data.head()"
   ]
  },
  {
   "cell_type": "code",
   "execution_count": 3,
   "id": "communist-harbor",
   "metadata": {
    "execution": {
     "iopub.execute_input": "2022-01-21T18:54:38.935737Z",
     "iopub.status.busy": "2022-01-21T18:54:38.935097Z",
     "iopub.status.idle": "2022-01-21T18:54:38.966594Z",
     "shell.execute_reply": "2022-01-21T18:54:38.966049Z",
     "shell.execute_reply.started": "2022-01-21T18:53:30.499373Z"
    },
    "papermill": {
     "duration": 0.04555,
     "end_time": "2022-01-21T18:54:38.966743",
     "exception": false,
     "start_time": "2022-01-21T18:54:38.921193",
     "status": "completed"
    },
    "tags": []
   },
   "outputs": [
    {
     "data": {
      "text/html": [
       "<div>\n",
       "<style scoped>\n",
       "    .dataframe tbody tr th:only-of-type {\n",
       "        vertical-align: middle;\n",
       "    }\n",
       "\n",
       "    .dataframe tbody tr th {\n",
       "        vertical-align: top;\n",
       "    }\n",
       "\n",
       "    .dataframe thead th {\n",
       "        text-align: right;\n",
       "    }\n",
       "</style>\n",
       "<table border=\"1\" class=\"dataframe\">\n",
       "  <thead>\n",
       "    <tr style=\"text-align: right;\">\n",
       "      <th></th>\n",
       "      <th>PassengerId</th>\n",
       "      <th>Pclass</th>\n",
       "      <th>Name</th>\n",
       "      <th>Sex</th>\n",
       "      <th>Age</th>\n",
       "      <th>SibSp</th>\n",
       "      <th>Parch</th>\n",
       "      <th>Ticket</th>\n",
       "      <th>Fare</th>\n",
       "      <th>Cabin</th>\n",
       "      <th>Embarked</th>\n",
       "    </tr>\n",
       "  </thead>\n",
       "  <tbody>\n",
       "    <tr>\n",
       "      <th>0</th>\n",
       "      <td>892</td>\n",
       "      <td>3</td>\n",
       "      <td>Kelly, Mr. James</td>\n",
       "      <td>male</td>\n",
       "      <td>34.5</td>\n",
       "      <td>0</td>\n",
       "      <td>0</td>\n",
       "      <td>330911</td>\n",
       "      <td>7.8292</td>\n",
       "      <td>NaN</td>\n",
       "      <td>Q</td>\n",
       "    </tr>\n",
       "    <tr>\n",
       "      <th>1</th>\n",
       "      <td>893</td>\n",
       "      <td>3</td>\n",
       "      <td>Wilkes, Mrs. James (Ellen Needs)</td>\n",
       "      <td>female</td>\n",
       "      <td>47.0</td>\n",
       "      <td>1</td>\n",
       "      <td>0</td>\n",
       "      <td>363272</td>\n",
       "      <td>7.0000</td>\n",
       "      <td>NaN</td>\n",
       "      <td>S</td>\n",
       "    </tr>\n",
       "    <tr>\n",
       "      <th>2</th>\n",
       "      <td>894</td>\n",
       "      <td>2</td>\n",
       "      <td>Myles, Mr. Thomas Francis</td>\n",
       "      <td>male</td>\n",
       "      <td>62.0</td>\n",
       "      <td>0</td>\n",
       "      <td>0</td>\n",
       "      <td>240276</td>\n",
       "      <td>9.6875</td>\n",
       "      <td>NaN</td>\n",
       "      <td>Q</td>\n",
       "    </tr>\n",
       "    <tr>\n",
       "      <th>3</th>\n",
       "      <td>895</td>\n",
       "      <td>3</td>\n",
       "      <td>Wirz, Mr. Albert</td>\n",
       "      <td>male</td>\n",
       "      <td>27.0</td>\n",
       "      <td>0</td>\n",
       "      <td>0</td>\n",
       "      <td>315154</td>\n",
       "      <td>8.6625</td>\n",
       "      <td>NaN</td>\n",
       "      <td>S</td>\n",
       "    </tr>\n",
       "    <tr>\n",
       "      <th>4</th>\n",
       "      <td>896</td>\n",
       "      <td>3</td>\n",
       "      <td>Hirvonen, Mrs. Alexander (Helga E Lindqvist)</td>\n",
       "      <td>female</td>\n",
       "      <td>22.0</td>\n",
       "      <td>1</td>\n",
       "      <td>1</td>\n",
       "      <td>3101298</td>\n",
       "      <td>12.2875</td>\n",
       "      <td>NaN</td>\n",
       "      <td>S</td>\n",
       "    </tr>\n",
       "  </tbody>\n",
       "</table>\n",
       "</div>"
      ],
      "text/plain": [
       "   PassengerId  Pclass                                          Name     Sex  \\\n",
       "0          892       3                              Kelly, Mr. James    male   \n",
       "1          893       3              Wilkes, Mrs. James (Ellen Needs)  female   \n",
       "2          894       2                     Myles, Mr. Thomas Francis    male   \n",
       "3          895       3                              Wirz, Mr. Albert    male   \n",
       "4          896       3  Hirvonen, Mrs. Alexander (Helga E Lindqvist)  female   \n",
       "\n",
       "    Age  SibSp  Parch   Ticket     Fare Cabin Embarked  \n",
       "0  34.5      0      0   330911   7.8292   NaN        Q  \n",
       "1  47.0      1      0   363272   7.0000   NaN        S  \n",
       "2  62.0      0      0   240276   9.6875   NaN        Q  \n",
       "3  27.0      0      0   315154   8.6625   NaN        S  \n",
       "4  22.0      1      1  3101298  12.2875   NaN        S  "
      ]
     },
     "execution_count": 3,
     "metadata": {},
     "output_type": "execute_result"
    }
   ],
   "source": [
    "test_data = pd.read_csv(\"/kaggle/input/titanic/test.csv\")\n",
    "test_data.head()"
   ]
  },
  {
   "cell_type": "code",
   "execution_count": 4,
   "id": "designed-pearl",
   "metadata": {
    "execution": {
     "iopub.execute_input": "2022-01-21T18:54:38.993325Z",
     "iopub.status.busy": "2022-01-21T18:54:38.992717Z",
     "iopub.status.idle": "2022-01-21T18:54:39.001722Z",
     "shell.execute_reply": "2022-01-21T18:54:39.002392Z",
     "shell.execute_reply.started": "2022-01-21T18:53:30.526336Z"
    },
    "papermill": {
     "duration": 0.024125,
     "end_time": "2022-01-21T18:54:39.002646",
     "exception": false,
     "start_time": "2022-01-21T18:54:38.978521",
     "status": "completed"
    },
    "tags": []
   },
   "outputs": [
    {
     "name": "stdout",
     "output_type": "stream",
     "text": [
      "% of women who survived: 0.7420382165605095\n"
     ]
    }
   ],
   "source": [
    "women = train_data.loc[train_data.Sex == 'female'][\"Survived\"]\n",
    "rate_women = sum(women)/len(women)\n",
    "\n",
    "print(\"% of women who survived:\", rate_women)"
   ]
  },
  {
   "cell_type": "code",
   "execution_count": 5,
   "id": "loved-flexibility",
   "metadata": {
    "execution": {
     "iopub.execute_input": "2022-01-21T18:54:39.031324Z",
     "iopub.status.busy": "2022-01-21T18:54:39.030709Z",
     "iopub.status.idle": "2022-01-21T18:54:39.037713Z",
     "shell.execute_reply": "2022-01-21T18:54:39.038281Z",
     "shell.execute_reply.started": "2022-01-21T18:53:30.537275Z"
    },
    "papermill": {
     "duration": 0.02293,
     "end_time": "2022-01-21T18:54:39.038467",
     "exception": false,
     "start_time": "2022-01-21T18:54:39.015537",
     "status": "completed"
    },
    "tags": []
   },
   "outputs": [
    {
     "name": "stdout",
     "output_type": "stream",
     "text": [
      "% of men who survived: 0.18890814558058924\n"
     ]
    }
   ],
   "source": [
    "men = train_data.loc[train_data.Sex == 'male'][\"Survived\"]\n",
    "rate_men = sum(men)/len(men)\n",
    "\n",
    "print(\"% of men who survived:\", rate_men)"
   ]
  },
  {
   "cell_type": "code",
   "execution_count": 6,
   "id": "primary-turkey",
   "metadata": {
    "execution": {
     "iopub.execute_input": "2022-01-21T18:54:39.071485Z",
     "iopub.status.busy": "2022-01-21T18:54:39.070505Z",
     "iopub.status.idle": "2022-01-21T18:54:39.075716Z",
     "shell.execute_reply": "2022-01-21T18:54:39.076418Z",
     "shell.execute_reply.started": "2022-01-21T18:53:30.557236Z"
    },
    "papermill": {
     "duration": 0.025668,
     "end_time": "2022-01-21T18:54:39.076643",
     "exception": false,
     "start_time": "2022-01-21T18:54:39.050975",
     "status": "completed"
    },
    "tags": []
   },
   "outputs": [],
   "source": [
    "#Defining a function for submission file  to competition\n",
    "def csv_write(pred):\n",
    "    output = pd.DataFrame({'PassengerId': test_data.PassengerId, 'Survived': pred})\n",
    "    output.to_csv('submission.csv', index=False)\n",
    "    print(\"Your submission was successfully saved!\")"
   ]
  },
  {
   "cell_type": "code",
   "execution_count": 7,
   "id": "early-calibration",
   "metadata": {
    "execution": {
     "iopub.execute_input": "2022-01-21T18:54:39.116925Z",
     "iopub.status.busy": "2022-01-21T18:54:39.116130Z",
     "iopub.status.idle": "2022-01-21T18:54:39.130646Z",
     "shell.execute_reply": "2022-01-21T18:54:39.130067Z",
     "shell.execute_reply.started": "2022-01-21T18:53:30.567749Z"
    },
    "papermill": {
     "duration": 0.041393,
     "end_time": "2022-01-21T18:54:39.130800",
     "exception": false,
     "start_time": "2022-01-21T18:54:39.089407",
     "status": "completed"
    },
    "tags": []
   },
   "outputs": [],
   "source": [
    "# I will do feature extraction and pattern finding here below:\n",
    "# For now, it is the simplest version of features\n",
    "\n",
    "features = [\"Pclass\", \"Sex\", \"SibSp\", \"Parch\"]\n",
    "y_train = train_data[\"Survived\"]\n",
    "X_train = pd.get_dummies(train_data[features])\n",
    "X_test = pd.get_dummies(test_data[features])"
   ]
  },
  {
   "cell_type": "code",
   "execution_count": 8,
   "id": "therapeutic-earthquake",
   "metadata": {
    "execution": {
     "iopub.execute_input": "2022-01-21T18:54:39.159611Z",
     "iopub.status.busy": "2022-01-21T18:54:39.159063Z",
     "iopub.status.idle": "2022-01-21T18:54:40.435401Z",
     "shell.execute_reply": "2022-01-21T18:54:40.436408Z",
     "shell.execute_reply.started": "2022-01-21T18:54:11.934988Z"
    },
    "papermill": {
     "duration": 1.293257,
     "end_time": "2022-01-21T18:54:40.436719",
     "exception": false,
     "start_time": "2022-01-21T18:54:39.143462",
     "status": "completed"
    },
    "tags": []
   },
   "outputs": [
    {
     "name": "stdout",
     "output_type": "stream",
     "text": [
      "Train Accuracy: 81.59%\n"
     ]
    }
   ],
   "source": [
    "# Our first try will be Random Forest Classifier as it is a powerful tool to split data into groups\n",
    "\n",
    "from sklearn.ensemble import RandomForestClassifier\n",
    "\n",
    "\n",
    "clf1 = RandomForestClassifier(n_estimators=100, max_depth=5, random_state=1)\n",
    "clf1.fit(X_train, y_train)\n",
    "y_pred_rand_for = clf1.predict(X_test)\n",
    "acc_rand_for = round( clf1.score(X_train, y_train) * 100, 2)\n",
    "print (\"Train Accuracy: \" + str(acc_rand_for) + '%')\n"
   ]
  },
  {
   "cell_type": "code",
   "execution_count": 9,
   "id": "medical-junction",
   "metadata": {
    "execution": {
     "iopub.execute_input": "2022-01-21T18:54:40.466359Z",
     "iopub.status.busy": "2022-01-21T18:54:40.465477Z",
     "iopub.status.idle": "2022-01-21T18:54:40.490544Z",
     "shell.execute_reply": "2022-01-21T18:54:40.489836Z",
     "shell.execute_reply.started": "2022-01-21T18:54:14.609546Z"
    },
    "papermill": {
     "duration": 0.040527,
     "end_time": "2022-01-21T18:54:40.490746",
     "exception": false,
     "start_time": "2022-01-21T18:54:40.450219",
     "status": "completed"
    },
    "tags": []
   },
   "outputs": [
    {
     "name": "stdout",
     "output_type": "stream",
     "text": [
      "Train Accuracy: 80.02%\n"
     ]
    }
   ],
   "source": [
    "# Second one will be Logistic Regression\n",
    "\n",
    "from sklearn.linear_model import LogisticRegression\n",
    "\n",
    "clf2 = LogisticRegression()\n",
    "clf2.fit(X_train, y_train)\n",
    "y_pred_log_reg = clf2.predict(X_test)\n",
    "acc_log_reg = round( clf2.score(X_train, y_train) * 100, 2)\n",
    "print (\"Train Accuracy: \" + str(acc_log_reg) + '%')"
   ]
  },
  {
   "cell_type": "code",
   "execution_count": 10,
   "id": "extensive-florist",
   "metadata": {
    "execution": {
     "iopub.execute_input": "2022-01-21T18:54:40.520322Z",
     "iopub.status.busy": "2022-01-21T18:54:40.519709Z",
     "iopub.status.idle": "2022-01-21T18:54:40.536919Z",
     "shell.execute_reply": "2022-01-21T18:54:40.537360Z",
     "shell.execute_reply.started": "2022-01-21T18:54:15.833217Z"
    },
    "papermill": {
     "duration": 0.03318,
     "end_time": "2022-01-21T18:54:40.537589",
     "exception": false,
     "start_time": "2022-01-21T18:54:40.504409",
     "status": "completed"
    },
    "tags": []
   },
   "outputs": [
    {
     "name": "stdout",
     "output_type": "stream",
     "text": [
      "Train Accuracy: 81.71%\n",
      "Your submission was successfully saved!\n"
     ]
    }
   ],
   "source": [
    "# For now, finally third one is Decision Tree Classifier\n",
    "\n",
    "from sklearn.tree import DecisionTreeClassifier\n",
    "\n",
    "clf = DecisionTreeClassifier()\n",
    "clf.fit(X_train, y_train)\n",
    "y_pred_dec_tree = clf.predict(X_test)\n",
    "acc_dec_tree = round(clf.score(X_train, y_train) * 100, 2)\n",
    "print (\"Train Accuracy: \" + str(acc_dec_tree) + '%')\n",
    "\n",
    "csv_write(y_pred_dec_tree)"
   ]
  },
  {
   "cell_type": "markdown",
   "id": "requested-philip",
   "metadata": {
    "papermill": {
     "duration": 0.012607,
     "end_time": "2022-01-21T18:54:40.563402",
     "exception": false,
     "start_time": "2022-01-21T18:54:40.550795",
     "status": "completed"
    },
    "tags": []
   },
   "source": [
    "All of the methods' accuracy will be calculated with train sets for now. Maybe it is a little bit wrong but for first try, I will just leave it like that.\n",
    "\n",
    "For now, my codes' accuracy is just %77. That will go up as patterns can be found in the data."
   ]
  }
 ],
 "metadata": {
  "kernelspec": {
   "display_name": "Python 3",
   "language": "python",
   "name": "python3"
  },
  "language_info": {
   "codemirror_mode": {
    "name": "ipython",
    "version": 3
   },
   "file_extension": ".py",
   "mimetype": "text/x-python",
   "name": "python",
   "nbconvert_exporter": "python",
   "pygments_lexer": "ipython3",
   "version": "3.7.10"
  },
  "papermill": {
   "default_parameters": {},
   "duration": 10.745259,
   "end_time": "2022-01-21T18:54:41.992767",
   "environment_variables": {},
   "exception": null,
   "input_path": "__notebook__.ipynb",
   "output_path": "__notebook__.ipynb",
   "parameters": {},
   "start_time": "2022-01-21T18:54:31.247508",
   "version": "2.3.3"
  }
 },
 "nbformat": 4,
 "nbformat_minor": 5
}
