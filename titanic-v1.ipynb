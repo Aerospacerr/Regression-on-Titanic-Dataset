{
 "cells": [
  {
   "cell_type": "markdown",
   "id": "compliant-processing",
   "metadata": {
    "papermill": {
     "duration": 0.0118,
     "end_time": "2022-01-21T19:23:10.076604",
     "exception": false,
     "start_time": "2022-01-21T19:23:10.064804",
     "status": "completed"
    },
    "tags": []
   },
   "source": [
    "## Titanic Competition Dataset\n",
    "\n",
    "![](https://i0.wp.com/khosann.com/wp-content/uploads/2017/03/titanic-titanik-ballard-leonardo_dicaprio-james_cameron.jpg)\n",
    "\n",
    "#### Here we try to figure out the patterns who survived the famous Titanic crash. As we apply feature extraction from train set, we will also apply machine learning concepts from very basic to harder to implement. #### \n",
    "\n",
    "#### This will be a live notebook which I try to implement new things as I learned.I will try to find out different patterns, and try to apply those day by day. #### \n"
   ]
  },
  {
   "cell_type": "code",
   "execution_count": 1,
   "id": "outdoor-qualification",
   "metadata": {
    "_cell_guid": "b1076dfc-b9ad-4769-8c92-a6c4dae69d19",
    "_uuid": "8f2839f25d086af736a60e9eeb907d3b93b6e0e5",
    "execution": {
     "iopub.execute_input": "2022-01-21T19:23:10.103098Z",
     "iopub.status.busy": "2022-01-21T19:23:10.101720Z",
     "iopub.status.idle": "2022-01-21T19:23:10.114645Z",
     "shell.execute_reply": "2022-01-21T19:23:10.115597Z",
     "shell.execute_reply.started": "2022-01-21T18:53:30.431630Z"
    },
    "papermill": {
     "duration": 0.028547,
     "end_time": "2022-01-21T19:23:10.116091",
     "exception": false,
     "start_time": "2022-01-21T19:23:10.087544",
     "status": "completed"
    },
    "tags": []
   },
   "outputs": [
    {
     "name": "stdout",
     "output_type": "stream",
     "text": [
      "/kaggle/input/titanic/train.csv\n",
      "/kaggle/input/titanic/test.csv\n",
      "/kaggle/input/titanic/gender_submission.csv\n"
     ]
    }
   ],
   "source": [
    "# This Python 3 environment comes with many helpful analytics libraries installed\n",
    "# It is defined by the kaggle/python Docker image: https://github.com/kaggle/docker-python\n",
    "# For example, here's several helpful packages to load\n",
    "\n",
    "import numpy as np # linear algebra\n",
    "import pandas as pd # data processing, CSV file I/O (e.g. pd.read_csv)\n",
    "\n",
    "# Input data files are available in the read-only \"../input/\" directory\n",
    "# For example, running this (by clicking run or pressing Shift+Enter) will list all files under the input directory\n",
    "\n",
    "import os\n",
    "for dirname, _, filenames in os.walk('/kaggle/input'):\n",
    "    for filename in filenames:\n",
    "        print(os.path.join(dirname, filename))\n",
    "\n",
    "# You can write up to 20GB to the current directory (/kaggle/working/) that gets preserved as output when you create a version using \"Save & Run All\" \n",
    "# You can also write temporary files to /kaggle/temp/, but they won't be saved outside of the current session"
   ]
  },
  {
   "cell_type": "code",
   "execution_count": 2,
   "id": "julian-nomination",
   "metadata": {
    "execution": {
     "iopub.execute_input": "2022-01-21T19:23:10.143509Z",
     "iopub.status.busy": "2022-01-21T19:23:10.142807Z",
     "iopub.status.idle": "2022-01-21T19:23:10.193785Z",
     "shell.execute_reply": "2022-01-21T19:23:10.194307Z",
     "shell.execute_reply.started": "2022-01-21T18:53:30.446013Z"
    },
    "papermill": {
     "duration": 0.065408,
     "end_time": "2022-01-21T19:23:10.194498",
     "exception": false,
     "start_time": "2022-01-21T19:23:10.129090",
     "status": "completed"
    },
    "tags": []
   },
   "outputs": [
    {
     "data": {
      "text/html": [
       "<div>\n",
       "<style scoped>\n",
       "    .dataframe tbody tr th:only-of-type {\n",
       "        vertical-align: middle;\n",
       "    }\n",
       "\n",
       "    .dataframe tbody tr th {\n",
       "        vertical-align: top;\n",
       "    }\n",
       "\n",
       "    .dataframe thead th {\n",
       "        text-align: right;\n",
       "    }\n",
       "</style>\n",
       "<table border=\"1\" class=\"dataframe\">\n",
       "  <thead>\n",
       "    <tr style=\"text-align: right;\">\n",
       "      <th></th>\n",
       "      <th>PassengerId</th>\n",
       "      <th>Survived</th>\n",
       "      <th>Pclass</th>\n",
       "      <th>Name</th>\n",
       "      <th>Sex</th>\n",
       "      <th>Age</th>\n",
       "      <th>SibSp</th>\n",
       "      <th>Parch</th>\n",
       "      <th>Ticket</th>\n",
       "      <th>Fare</th>\n",
       "      <th>Cabin</th>\n",
       "      <th>Embarked</th>\n",
       "    </tr>\n",
       "  </thead>\n",
       "  <tbody>\n",
       "    <tr>\n",
       "      <th>0</th>\n",
       "      <td>1</td>\n",
       "      <td>0</td>\n",
       "      <td>3</td>\n",
       "      <td>Braund, Mr. Owen Harris</td>\n",
       "      <td>male</td>\n",
       "      <td>22.0</td>\n",
       "      <td>1</td>\n",
       "      <td>0</td>\n",
       "      <td>A/5 21171</td>\n",
       "      <td>7.2500</td>\n",
       "      <td>NaN</td>\n",
       "      <td>S</td>\n",
       "    </tr>\n",
       "    <tr>\n",
       "      <th>1</th>\n",
       "      <td>2</td>\n",
       "      <td>1</td>\n",
       "      <td>1</td>\n",
       "      <td>Cumings, Mrs. John Bradley (Florence Briggs Th...</td>\n",
       "      <td>female</td>\n",
       "      <td>38.0</td>\n",
       "      <td>1</td>\n",
       "      <td>0</td>\n",
       "      <td>PC 17599</td>\n",
       "      <td>71.2833</td>\n",
       "      <td>C85</td>\n",
       "      <td>C</td>\n",
       "    </tr>\n",
       "    <tr>\n",
       "      <th>2</th>\n",
       "      <td>3</td>\n",
       "      <td>1</td>\n",
       "      <td>3</td>\n",
       "      <td>Heikkinen, Miss. Laina</td>\n",
       "      <td>female</td>\n",
       "      <td>26.0</td>\n",
       "      <td>0</td>\n",
       "      <td>0</td>\n",
       "      <td>STON/O2. 3101282</td>\n",
       "      <td>7.9250</td>\n",
       "      <td>NaN</td>\n",
       "      <td>S</td>\n",
       "    </tr>\n",
       "    <tr>\n",
       "      <th>3</th>\n",
       "      <td>4</td>\n",
       "      <td>1</td>\n",
       "      <td>1</td>\n",
       "      <td>Futrelle, Mrs. Jacques Heath (Lily May Peel)</td>\n",
       "      <td>female</td>\n",
       "      <td>35.0</td>\n",
       "      <td>1</td>\n",
       "      <td>0</td>\n",
       "      <td>113803</td>\n",
       "      <td>53.1000</td>\n",
       "      <td>C123</td>\n",
       "      <td>S</td>\n",
       "    </tr>\n",
       "    <tr>\n",
       "      <th>4</th>\n",
       "      <td>5</td>\n",
       "      <td>0</td>\n",
       "      <td>3</td>\n",
       "      <td>Allen, Mr. William Henry</td>\n",
       "      <td>male</td>\n",
       "      <td>35.0</td>\n",
       "      <td>0</td>\n",
       "      <td>0</td>\n",
       "      <td>373450</td>\n",
       "      <td>8.0500</td>\n",
       "      <td>NaN</td>\n",
       "      <td>S</td>\n",
       "    </tr>\n",
       "  </tbody>\n",
       "</table>\n",
       "</div>"
      ],
      "text/plain": [
       "   PassengerId  Survived  Pclass  \\\n",
       "0            1         0       3   \n",
       "1            2         1       1   \n",
       "2            3         1       3   \n",
       "3            4         1       1   \n",
       "4            5         0       3   \n",
       "\n",
       "                                                Name     Sex   Age  SibSp  \\\n",
       "0                            Braund, Mr. Owen Harris    male  22.0      1   \n",
       "1  Cumings, Mrs. John Bradley (Florence Briggs Th...  female  38.0      1   \n",
       "2                             Heikkinen, Miss. Laina  female  26.0      0   \n",
       "3       Futrelle, Mrs. Jacques Heath (Lily May Peel)  female  35.0      1   \n",
       "4                           Allen, Mr. William Henry    male  35.0      0   \n",
       "\n",
       "   Parch            Ticket     Fare Cabin Embarked  \n",
       "0      0         A/5 21171   7.2500   NaN        S  \n",
       "1      0          PC 17599  71.2833   C85        C  \n",
       "2      0  STON/O2. 3101282   7.9250   NaN        S  \n",
       "3      0            113803  53.1000  C123        S  \n",
       "4      0            373450   8.0500   NaN        S  "
      ]
     },
     "execution_count": 2,
     "metadata": {},
     "output_type": "execute_result"
    }
   ],
   "source": [
    "train_data = pd.read_csv(\"/kaggle/input/titanic/train.csv\")\n",
    "train_data.head()"
   ]
  },
  {
   "cell_type": "code",
   "execution_count": 3,
   "id": "secret-gardening",
   "metadata": {
    "execution": {
     "iopub.execute_input": "2022-01-21T19:23:10.222659Z",
     "iopub.status.busy": "2022-01-21T19:23:10.221878Z",
     "iopub.status.idle": "2022-01-21T19:23:10.245775Z",
     "shell.execute_reply": "2022-01-21T19:23:10.246379Z",
     "shell.execute_reply.started": "2022-01-21T18:53:30.499373Z"
    },
    "papermill": {
     "duration": 0.040734,
     "end_time": "2022-01-21T19:23:10.246597",
     "exception": false,
     "start_time": "2022-01-21T19:23:10.205863",
     "status": "completed"
    },
    "tags": []
   },
   "outputs": [
    {
     "data": {
      "text/html": [
       "<div>\n",
       "<style scoped>\n",
       "    .dataframe tbody tr th:only-of-type {\n",
       "        vertical-align: middle;\n",
       "    }\n",
       "\n",
       "    .dataframe tbody tr th {\n",
       "        vertical-align: top;\n",
       "    }\n",
       "\n",
       "    .dataframe thead th {\n",
       "        text-align: right;\n",
       "    }\n",
       "</style>\n",
       "<table border=\"1\" class=\"dataframe\">\n",
       "  <thead>\n",
       "    <tr style=\"text-align: right;\">\n",
       "      <th></th>\n",
       "      <th>PassengerId</th>\n",
       "      <th>Pclass</th>\n",
       "      <th>Name</th>\n",
       "      <th>Sex</th>\n",
       "      <th>Age</th>\n",
       "      <th>SibSp</th>\n",
       "      <th>Parch</th>\n",
       "      <th>Ticket</th>\n",
       "      <th>Fare</th>\n",
       "      <th>Cabin</th>\n",
       "      <th>Embarked</th>\n",
       "    </tr>\n",
       "  </thead>\n",
       "  <tbody>\n",
       "    <tr>\n",
       "      <th>0</th>\n",
       "      <td>892</td>\n",
       "      <td>3</td>\n",
       "      <td>Kelly, Mr. James</td>\n",
       "      <td>male</td>\n",
       "      <td>34.5</td>\n",
       "      <td>0</td>\n",
       "      <td>0</td>\n",
       "      <td>330911</td>\n",
       "      <td>7.8292</td>\n",
       "      <td>NaN</td>\n",
       "      <td>Q</td>\n",
       "    </tr>\n",
       "    <tr>\n",
       "      <th>1</th>\n",
       "      <td>893</td>\n",
       "      <td>3</td>\n",
       "      <td>Wilkes, Mrs. James (Ellen Needs)</td>\n",
       "      <td>female</td>\n",
       "      <td>47.0</td>\n",
       "      <td>1</td>\n",
       "      <td>0</td>\n",
       "      <td>363272</td>\n",
       "      <td>7.0000</td>\n",
       "      <td>NaN</td>\n",
       "      <td>S</td>\n",
       "    </tr>\n",
       "    <tr>\n",
       "      <th>2</th>\n",
       "      <td>894</td>\n",
       "      <td>2</td>\n",
       "      <td>Myles, Mr. Thomas Francis</td>\n",
       "      <td>male</td>\n",
       "      <td>62.0</td>\n",
       "      <td>0</td>\n",
       "      <td>0</td>\n",
       "      <td>240276</td>\n",
       "      <td>9.6875</td>\n",
       "      <td>NaN</td>\n",
       "      <td>Q</td>\n",
       "    </tr>\n",
       "    <tr>\n",
       "      <th>3</th>\n",
       "      <td>895</td>\n",
       "      <td>3</td>\n",
       "      <td>Wirz, Mr. Albert</td>\n",
       "      <td>male</td>\n",
       "      <td>27.0</td>\n",
       "      <td>0</td>\n",
       "      <td>0</td>\n",
       "      <td>315154</td>\n",
       "      <td>8.6625</td>\n",
       "      <td>NaN</td>\n",
       "      <td>S</td>\n",
       "    </tr>\n",
       "    <tr>\n",
       "      <th>4</th>\n",
       "      <td>896</td>\n",
       "      <td>3</td>\n",
       "      <td>Hirvonen, Mrs. Alexander (Helga E Lindqvist)</td>\n",
       "      <td>female</td>\n",
       "      <td>22.0</td>\n",
       "      <td>1</td>\n",
       "      <td>1</td>\n",
       "      <td>3101298</td>\n",
       "      <td>12.2875</td>\n",
       "      <td>NaN</td>\n",
       "      <td>S</td>\n",
       "    </tr>\n",
       "  </tbody>\n",
       "</table>\n",
       "</div>"
      ],
      "text/plain": [
       "   PassengerId  Pclass                                          Name     Sex  \\\n",
       "0          892       3                              Kelly, Mr. James    male   \n",
       "1          893       3              Wilkes, Mrs. James (Ellen Needs)  female   \n",
       "2          894       2                     Myles, Mr. Thomas Francis    male   \n",
       "3          895       3                              Wirz, Mr. Albert    male   \n",
       "4          896       3  Hirvonen, Mrs. Alexander (Helga E Lindqvist)  female   \n",
       "\n",
       "    Age  SibSp  Parch   Ticket     Fare Cabin Embarked  \n",
       "0  34.5      0      0   330911   7.8292   NaN        Q  \n",
       "1  47.0      1      0   363272   7.0000   NaN        S  \n",
       "2  62.0      0      0   240276   9.6875   NaN        Q  \n",
       "3  27.0      0      0   315154   8.6625   NaN        S  \n",
       "4  22.0      1      1  3101298  12.2875   NaN        S  "
      ]
     },
     "execution_count": 3,
     "metadata": {},
     "output_type": "execute_result"
    }
   ],
   "source": [
    "test_data = pd.read_csv(\"/kaggle/input/titanic/test.csv\")\n",
    "test_data.head()"
   ]
  },
  {
   "cell_type": "code",
   "execution_count": 4,
   "id": "attended-stocks",
   "metadata": {
    "execution": {
     "iopub.execute_input": "2022-01-21T19:23:10.275964Z",
     "iopub.status.busy": "2022-01-21T19:23:10.274877Z",
     "iopub.status.idle": "2022-01-21T19:23:10.287929Z",
     "shell.execute_reply": "2022-01-21T19:23:10.288477Z",
     "shell.execute_reply.started": "2022-01-21T18:53:30.526336Z"
    },
    "papermill": {
     "duration": 0.029746,
     "end_time": "2022-01-21T19:23:10.288700",
     "exception": false,
     "start_time": "2022-01-21T19:23:10.258954",
     "status": "completed"
    },
    "tags": []
   },
   "outputs": [
    {
     "name": "stdout",
     "output_type": "stream",
     "text": [
      "% of women who survived: 0.7420382165605095\n"
     ]
    }
   ],
   "source": [
    "women = train_data.loc[train_data.Sex == 'female'][\"Survived\"]\n",
    "rate_women = sum(women)/len(women)\n",
    "\n",
    "print(\"% of women who survived:\", rate_women)"
   ]
  },
  {
   "cell_type": "code",
   "execution_count": 5,
   "id": "going-mexico",
   "metadata": {
    "execution": {
     "iopub.execute_input": "2022-01-21T19:23:10.316545Z",
     "iopub.status.busy": "2022-01-21T19:23:10.315917Z",
     "iopub.status.idle": "2022-01-21T19:23:10.324878Z",
     "shell.execute_reply": "2022-01-21T19:23:10.325445Z",
     "shell.execute_reply.started": "2022-01-21T18:53:30.537275Z"
    },
    "papermill": {
     "duration": 0.024686,
     "end_time": "2022-01-21T19:23:10.325665",
     "exception": false,
     "start_time": "2022-01-21T19:23:10.300979",
     "status": "completed"
    },
    "tags": []
   },
   "outputs": [
    {
     "name": "stdout",
     "output_type": "stream",
     "text": [
      "% of men who survived: 0.18890814558058924\n"
     ]
    }
   ],
   "source": [
    "men = train_data.loc[train_data.Sex == 'male'][\"Survived\"]\n",
    "rate_men = sum(men)/len(men)\n",
    "\n",
    "print(\"% of men who survived:\", rate_men)"
   ]
  },
  {
   "cell_type": "code",
   "execution_count": 6,
   "id": "wicked-strand",
   "metadata": {
    "execution": {
     "iopub.execute_input": "2022-01-21T19:23:10.354463Z",
     "iopub.status.busy": "2022-01-21T19:23:10.353780Z",
     "iopub.status.idle": "2022-01-21T19:23:10.358516Z",
     "shell.execute_reply": "2022-01-21T19:23:10.359123Z",
     "shell.execute_reply.started": "2022-01-21T18:53:30.557236Z"
    },
    "papermill": {
     "duration": 0.02092,
     "end_time": "2022-01-21T19:23:10.359319",
     "exception": false,
     "start_time": "2022-01-21T19:23:10.338399",
     "status": "completed"
    },
    "tags": []
   },
   "outputs": [],
   "source": [
    "#Defining a function for submission file  to competition\n",
    "def csv_write(pred):\n",
    "    output = pd.DataFrame({'PassengerId': test_data.PassengerId, 'Survived': pred})\n",
    "    output.to_csv('submission.csv', index=False)\n",
    "    print(\"Your submission was successfully saved!\")"
   ]
  },
  {
   "cell_type": "code",
   "execution_count": 7,
   "id": "municipal-compatibility",
   "metadata": {
    "execution": {
     "iopub.execute_input": "2022-01-21T19:23:10.390864Z",
     "iopub.status.busy": "2022-01-21T19:23:10.388909Z",
     "iopub.status.idle": "2022-01-21T19:23:10.415119Z",
     "shell.execute_reply": "2022-01-21T19:23:10.414412Z",
     "shell.execute_reply.started": "2022-01-21T18:53:30.567749Z"
    },
    "papermill": {
     "duration": 0.043489,
     "end_time": "2022-01-21T19:23:10.415269",
     "exception": false,
     "start_time": "2022-01-21T19:23:10.371780",
     "status": "completed"
    },
    "tags": []
   },
   "outputs": [],
   "source": [
    "# I will do feature extraction and pattern finding here below:\n",
    "# For now, it is the simplest version of features\n",
    "\n",
    "features = [\"Pclass\", \"Sex\", \"SibSp\", \"Parch\"]\n",
    "y_train = train_data[\"Survived\"]\n",
    "X_train = pd.get_dummies(train_data[features])\n",
    "X_test = pd.get_dummies(test_data[features])"
   ]
  },
  {
   "cell_type": "code",
   "execution_count": 8,
   "id": "marked-january",
   "metadata": {
    "execution": {
     "iopub.execute_input": "2022-01-21T19:23:10.447343Z",
     "iopub.status.busy": "2022-01-21T19:23:10.446691Z",
     "iopub.status.idle": "2022-01-21T19:23:11.982226Z",
     "shell.execute_reply": "2022-01-21T19:23:11.981639Z",
     "shell.execute_reply.started": "2022-01-21T18:54:11.934988Z"
    },
    "papermill": {
     "duration": 1.554559,
     "end_time": "2022-01-21T19:23:11.982413",
     "exception": false,
     "start_time": "2022-01-21T19:23:10.427854",
     "status": "completed"
    },
    "tags": []
   },
   "outputs": [
    {
     "name": "stdout",
     "output_type": "stream",
     "text": [
      "Train Accuracy: 81.59%\n"
     ]
    }
   ],
   "source": [
    "# Our first try will be Random Forest Classifier as it is a powerful tool to split data into groups\n",
    "\n",
    "from sklearn.ensemble import RandomForestClassifier\n",
    "\n",
    "\n",
    "clf1 = RandomForestClassifier(n_estimators=100, max_depth=5, random_state=1)\n",
    "clf1.fit(X_train, y_train)\n",
    "y_pred_rand_for = clf1.predict(X_test)\n",
    "acc_rand_for = round( clf1.score(X_train, y_train) * 100, 2)\n",
    "print (\"Train Accuracy: \" + str(acc_rand_for) + '%')\n"
   ]
  },
  {
   "cell_type": "code",
   "execution_count": 9,
   "id": "supposed-dealing",
   "metadata": {
    "execution": {
     "iopub.execute_input": "2022-01-21T19:23:12.018042Z",
     "iopub.status.busy": "2022-01-21T19:23:12.017215Z",
     "iopub.status.idle": "2022-01-21T19:23:12.039439Z",
     "shell.execute_reply": "2022-01-21T19:23:12.039950Z",
     "shell.execute_reply.started": "2022-01-21T18:54:14.609546Z"
    },
    "papermill": {
     "duration": 0.04464,
     "end_time": "2022-01-21T19:23:12.040126",
     "exception": false,
     "start_time": "2022-01-21T19:23:11.995486",
     "status": "completed"
    },
    "tags": []
   },
   "outputs": [
    {
     "name": "stdout",
     "output_type": "stream",
     "text": [
      "Train Accuracy: 80.02%\n"
     ]
    }
   ],
   "source": [
    "# Second one will be Logistic Regression\n",
    "\n",
    "from sklearn.linear_model import LogisticRegression\n",
    "\n",
    "clf2 = LogisticRegression()\n",
    "clf2.fit(X_train, y_train)\n",
    "y_pred_log_reg = clf2.predict(X_test)\n",
    "acc_log_reg = round( clf2.score(X_train, y_train) * 100, 2)\n",
    "print (\"Train Accuracy: \" + str(acc_log_reg) + '%')"
   ]
  },
  {
   "cell_type": "code",
   "execution_count": 10,
   "id": "editorial-faculty",
   "metadata": {
    "execution": {
     "iopub.execute_input": "2022-01-21T19:23:12.072624Z",
     "iopub.status.busy": "2022-01-21T19:23:12.071704Z",
     "iopub.status.idle": "2022-01-21T19:23:12.094996Z",
     "shell.execute_reply": "2022-01-21T19:23:12.095734Z",
     "shell.execute_reply.started": "2022-01-21T18:54:15.833217Z"
    },
    "papermill": {
     "duration": 0.042081,
     "end_time": "2022-01-21T19:23:12.096011",
     "exception": false,
     "start_time": "2022-01-21T19:23:12.053930",
     "status": "completed"
    },
    "tags": []
   },
   "outputs": [
    {
     "name": "stdout",
     "output_type": "stream",
     "text": [
      "Train Accuracy: 81.71%\n",
      "Your submission was successfully saved!\n"
     ]
    }
   ],
   "source": [
    "# For now, finally third one is Decision Tree Classifier\n",
    "\n",
    "from sklearn.tree import DecisionTreeClassifier\n",
    "\n",
    "clf = DecisionTreeClassifier()\n",
    "clf.fit(X_train, y_train)\n",
    "y_pred_dec_tree = clf.predict(X_test)\n",
    "acc_dec_tree = round(clf.score(X_train, y_train) * 100, 2)\n",
    "print (\"Train Accuracy: \" + str(acc_dec_tree) + '%')\n",
    "\n",
    "csv_write(y_pred_dec_tree)"
   ]
  },
  {
   "cell_type": "markdown",
   "id": "finished-valley",
   "metadata": {
    "papermill": {
     "duration": 0.014532,
     "end_time": "2022-01-21T19:23:12.125807",
     "exception": false,
     "start_time": "2022-01-21T19:23:12.111275",
     "status": "completed"
    },
    "tags": []
   },
   "source": [
    "All of the methods' accuracy will be calculated with train sets for now. Maybe it is a little bit wrong but for first try, I will just leave it like that.\n",
    "\n",
    "For now, my codes' accuracy is just %77. That will go up as patterns can be found in the data."
   ]
  }
 ],
 "metadata": {
  "kernelspec": {
   "display_name": "Python 3",
   "language": "python",
   "name": "python3"
  },
  "language_info": {
   "codemirror_mode": {
    "name": "ipython",
    "version": 3
   },
   "file_extension": ".py",
   "mimetype": "text/x-python",
   "name": "python",
   "nbconvert_exporter": "python",
   "pygments_lexer": "ipython3",
   "version": "3.7.10"
  },
  "papermill": {
   "default_parameters": {},
   "duration": 12.873243,
   "end_time": "2022-01-21T19:23:14.110187",
   "environment_variables": {},
   "exception": null,
   "input_path": "__notebook__.ipynb",
   "output_path": "__notebook__.ipynb",
   "parameters": {},
   "start_time": "2022-01-21T19:23:01.236944",
   "version": "2.3.3"
  }
 },
 "nbformat": 4,
 "nbformat_minor": 5
}
